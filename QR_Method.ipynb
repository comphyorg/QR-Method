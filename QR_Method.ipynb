{
  "nbformat": 4,
  "nbformat_minor": 0,
  "metadata": {
    "kernelspec": {
      "display_name": "Python 3",
      "language": "python",
      "name": "python3"
    },
    "language_info": {
      "codemirror_mode": {
        "name": "ipython",
        "version": 3
      },
      "file_extension": ".py",
      "mimetype": "text/x-python",
      "name": "python",
      "nbconvert_exporter": "python",
      "pygments_lexer": "ipython3",
      "version": "3.8.3"
    },
    "colab": {
      "name": "QR_Method.ipynb",
      "provenance": [],
      "collapsed_sections": []
    }
  },
  "cells": [
    {
      "cell_type": "markdown",
      "metadata": {
        "id": "qH9_eKEjbPOP"
      },
      "source": [
        "[![Open In Colab](https://colab.research.google.com/assets/colab-badge.svg)](https://colab.research.google.com/drive/1BwkEkJQbb73ZumQPHbWE8NubnTYbtUnF?authuser=2#scrollTo=vyo4yuRsWe1O)"
      ]
    },
    {
      "cell_type": "code",
      "metadata": {
        "id": "m3_V1VWkbPOS",
        "colab": {
          "base_uri": "https://localhost:8080/"
        },
        "outputId": "4589febf-46fe-4697-8f77-d2ff8d159f4f"
      },
      "source": [
        "#importing the libraries \n",
        "import numpy as np\n",
        "import cmath as m\n",
        "\n",
        "\n",
        "################################### QR section ###########################################\n",
        "\n",
        "################################### User section #########################################\n",
        "# input your matrix here please\n",
        "# here, we have given a generalised code for complex matrices too\n",
        "\n",
        "Mat=np.array([2,3,5,3,2,4,5,4,2],'complex')\n",
        "Dim=int(m.sqrt(len(Mat)).real)\n",
        "Mat=np.reshape(Mat,(Dim,Dim))\n",
        "eig=np.zeros(Dim,'complex')\n",
        "Eig=np.identity(Dim,'complex')\n",
        "\n",
        "# you can try to print out the variables at each step to see what they are doing\n",
        "\n",
        "#################### QR factorisation through gram-schimdt orthonormalisation ############### \n",
        "def qrfacg(arr):\n",
        "    \n",
        "    # defining the matrix for manipulation \n",
        "    Q = np.array([arr[i][j] for i in range(Dim) for j in range(Dim)]).reshape(Dim, Dim)  # doing a copy real matrix/ one can simply use Q = np.copy(arr)\n",
        "    R = np.zeros(Dim**2,'complex').reshape(Dim, Dim)\n",
        "\n",
        "    # GRAM_SCHIMDT \n",
        "    for i in range(Dim):\n",
        "\n",
        "        temp = Q[:,i]  # picking a vector\n",
        "        \n",
        "        # the repeated subtraction\n",
        "        for j in range(i):\n",
        "            temp -= Q[:,j]*( np.vdot (Q[:,i], Q[:,j]) )            # Gram-Schmidt Rotation\n",
        "            \n",
        "        # the normalisation\n",
        "        temp /=(m.sqrt(np.vdot(temp,temp)))\n",
        "\n",
        "        # component matrix\n",
        "        for k in range(Dim-1,i-1,-1):\n",
        "            R[i][k] = np.vdot(arr[:, k], temp)                # R matrix is collection of older vectors in new basis\n",
        "\n",
        "        # Notice, you can simply use temp for Q matrix\n",
        "        Q[:,i] = temp\n",
        "    return Q,R\n",
        "\n",
        "## Factorised Matrix\n",
        "#print(qrfacg(Mat))\n",
        "\n",
        "########################################### QR ALGORITHM ########################################\n",
        "#################################################################################################\n",
        "\n",
        "# intialising the algo\n",
        "Qk,Rk = qrfacg(Mat)\n",
        "while(True):  \n",
        "# A do-while loop in python\n",
        "\n",
        "    # first matrix\n",
        "    Ak = np.matmul(Qk,Rk)\n",
        "    # second matrix\n",
        "    Akk = np.matmul(Rk,Qk)\n",
        "\n",
        "    # Redefining for current matrix\n",
        "    Qk,Rk = qrfacg(Akk)\n",
        "\n",
        "    dig=abs(np.diagonal(Ak)-np.diagonal(Akk))\n",
        "\n",
        "    ####### Convergence test\n",
        "    if(dig.all()<= 0.00001+0.0001j): \n",
        "      eigval  = np.diagonal(Akk)\n",
        "      print(\"The eigenvalues of matrix are \")\n",
        "      print(eigval)\n",
        "      print(\"The corresponding eigenvectors of matrix are \")\n",
        "      print(Qk.transpose())\n",
        "      break\n"
      ],
      "execution_count": null,
      "outputs": [
        {
          "output_type": "stream",
          "text": [
            "The eigenvalues of matrix are \n",
            "[10.05581036+0.j -3.18026779+0.j -0.87554257+0.j]\n",
            "The corresponding eigenvectors of matrix are \n",
            "[[ 1.00000000e+00+0.j  4.27506809e-09+0.j  4.76834764e-18+0.j]\n",
            " [ 4.27506809e-09+0.j -1.00000000e+00+0.j -9.75096981e-10+0.j]\n",
            " [ 5.99741651e-19+0.j  9.75096981e-10+0.j -1.00000000e+00+0.j]]\n"
          ],
          "name": "stdout"
        }
      ]
    },
    {
      "cell_type": "markdown",
      "metadata": {
        "id": "vyo4yuRsWe1O"
      },
      "source": [
        "You can try running it on colab\n",
        "\n",
        "[![Open In Colab](https://colab.research.google.com/assets/colab-badge.svg)](https://colab.research.google.com/drive/1BwkEkJQbb73ZumQPHbWE8NubnTYbtUnF?authuser=2#scrollTo=vyo4yuRsWe1O)\n",
        "\n",
        "Or you can open it on Binder \n",
        "\n",
        "[![Binder](https://mybinder.org/badge_logo.svg)](https://mybinder.org/v2/gh/comphyorg/QR-Method.git/master?filepath=QR_Method.ipynb)"
      ]
    }
  ]
}
